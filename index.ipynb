{
 "cells": [
  {
   "cell_type": "code",
   "execution_count": 1,
   "metadata": {
    "collapsed": false
   },
   "outputs": [
    {
     "name": "stdout",
     "output_type": "stream",
     "text": [
      "Hello, World!\n"
     ]
    }
   ],
   "source": [
    "print(\"Hello, World!\")"
   ]
  },
  {
   "cell_type": "markdown",
   "metadata": {},
   "source": [
    "### Importing Relevant Modules"
   ]
  },
  {
   "cell_type": "code",
   "execution_count": 1,
   "metadata": {
    "collapsed": true
   },
   "outputs": [],
   "source": [
    "import scipy"
   ]
  },
  {
   "cell_type": "code",
   "execution_count": 2,
   "metadata": {
    "collapsed": true
   },
   "outputs": [],
   "source": [
    "import matplotlib"
   ]
  },
  {
   "cell_type": "code",
   "execution_count": 3,
   "metadata": {
    "collapsed": true
   },
   "outputs": [],
   "source": [
    "import pandas"
   ]
  },
  {
   "cell_type": "code",
   "execution_count": 4,
   "metadata": {
    "collapsed": true
   },
   "outputs": [],
   "source": [
    "import numpy"
   ]
  },
  {
   "cell_type": "code",
   "execution_count": 9,
   "metadata": {
    "collapsed": false
   },
   "outputs": [
    {
     "data": {
      "text/plain": [
       "'/home/main/notebooks'"
      ]
     },
     "execution_count": 9,
     "metadata": {},
     "output_type": "execute_result"
    }
   ],
   "source": [
    "import os\n",
    "os.getcwd()"
   ]
  },
  {
   "cell_type": "code",
   "execution_count": 11,
   "metadata": {
    "collapsed": false
   },
   "outputs": [
    {
     "name": "stdout",
     "output_type": "stream",
     "text": [
      "['', '/home/main/anaconda2/lib/python27.zip', '/home/main/anaconda2/lib/python2.7', '/home/main/anaconda2/lib/python2.7/plat-linux2', '/home/main/anaconda2/lib/python2.7/lib-tk', '/home/main/anaconda2/lib/python2.7/lib-old', '/home/main/anaconda2/lib/python2.7/lib-dynload', '/home/main/anaconda2/lib/python2.7/site-packages/Sphinx-1.3.5-py2.7.egg', '/home/main/anaconda2/lib/python2.7/site-packages/setuptools-20.3-py2.7.egg', '/home/main/anaconda2/lib/python2.7/site-packages', '/home/main/anaconda2/lib/python2.7/site-packages/IPython/extensions', '/home/main/.ipython', '/home/main/notebooks/Asap-3.8.4/Python/', '/home/main/notebooks/Asap-3.8.4/Python/']\n"
     ]
    }
   ],
   "source": [
    "import sys\n",
    "sys.path.append(\"/home/main/notebooks/Asap-3.8.4/Python/\")\n",
    "print sys.path"
   ]
  },
  {
   "cell_type": "code",
   "execution_count": 13,
   "metadata": {
    "collapsed": false
   },
   "outputs": [
    {
     "ename": "ImportError",
     "evalue": "No module named asapserial3",
     "output_type": "error",
     "traceback": [
      "\u001b[1;31m---------------------------------------------------------------------------\u001b[0m",
      "\u001b[1;31mImportError\u001b[0m                               Traceback (most recent call last)",
      "\u001b[1;32m<ipython-input-13-6f909c417c41>\u001b[0m in \u001b[0;36m<module>\u001b[1;34m()\u001b[0m\n\u001b[1;32m----> 1\u001b[1;33m \u001b[1;32mimport\u001b[0m \u001b[0masap3\u001b[0m\u001b[1;33m\u001b[0m\u001b[0m\n\u001b[0m",
      "\u001b[1;32m/home/main/notebooks/Asap-3.8.4/Python/asap3/__init__.py\u001b[0m in \u001b[0;36m<module>\u001b[1;34m()\u001b[0m\n\u001b[0;32m     74\u001b[0m \u001b[1;32mimport\u001b[0m \u001b[0msys\u001b[0m\u001b[1;33m,\u001b[0m \u001b[0mos\u001b[0m\u001b[1;33m\u001b[0m\u001b[0m\n\u001b[0;32m     75\u001b[0m \u001b[1;32mfrom\u001b[0m \u001b[0masap3\u001b[0m\u001b[1;33m.\u001b[0m\u001b[0mversion\u001b[0m \u001b[1;32mimport\u001b[0m \u001b[0m__version__\u001b[0m\u001b[1;33m\u001b[0m\u001b[0m\n\u001b[1;32m---> 76\u001b[1;33m \u001b[1;32mfrom\u001b[0m \u001b[0masap3\u001b[0m\u001b[1;33m.\u001b[0m\u001b[0mInternal\u001b[0m\u001b[1;33m.\u001b[0m\u001b[0mBuiltins\u001b[0m \u001b[1;32mimport\u001b[0m \u001b[0m_asap\u001b[0m\u001b[1;33m,\u001b[0m \u001b[0mparallelpossible\u001b[0m\u001b[1;33m,\u001b[0m \u001b[0mAsapError\u001b[0m\u001b[1;33m\u001b[0m\u001b[0m\n\u001b[0m\u001b[0;32m     77\u001b[0m \u001b[1;32mfrom\u001b[0m \u001b[0masap3\u001b[0m\u001b[1;33m.\u001b[0m\u001b[0mInternal\u001b[0m\u001b[1;33m.\u001b[0m\u001b[0mUtilityFunctions\u001b[0m \u001b[1;32mimport\u001b[0m \u001b[0mprint_version\u001b[0m\u001b[1;33m,\u001b[0m \u001b[0mget_version\u001b[0m\u001b[1;33m,\u001b[0m\u001b[0;31m \u001b[0m\u001b[0;31m\\\u001b[0m\u001b[1;33m\u001b[0m\u001b[0m\n\u001b[0;32m     78\u001b[0m      \u001b[0mget_short_version\u001b[0m\u001b[1;33m,\u001b[0m \u001b[0mDebugOutput\u001b[0m\u001b[1;33m,\u001b[0m \u001b[0mmemory_usage\u001b[0m\u001b[1;33m,\u001b[0m \u001b[0mprint_memory\u001b[0m\u001b[1;33m\u001b[0m\u001b[0m\n",
      "\u001b[1;32m/home/main/notebooks/Asap-3.8.4/Python/asap3/Internal/Builtins.py\u001b[0m in \u001b[0;36m<module>\u001b[1;34m()\u001b[0m\n\u001b[0;32m     16\u001b[0m     \u001b[1;32mimport\u001b[0m \u001b[0masapparallel3\u001b[0m \u001b[1;32mas\u001b[0m \u001b[0m_asap\u001b[0m\u001b[1;33m\u001b[0m\u001b[0m\n\u001b[0;32m     17\u001b[0m \u001b[1;32melse\u001b[0m\u001b[1;33m:\u001b[0m\u001b[1;33m\u001b[0m\u001b[0m\n\u001b[1;32m---> 18\u001b[1;33m     \u001b[1;32mimport\u001b[0m \u001b[0masapserial3\u001b[0m \u001b[1;32mas\u001b[0m \u001b[0m_asap\u001b[0m\u001b[1;33m\u001b[0m\u001b[0m\n\u001b[0m\u001b[0;32m     19\u001b[0m \u001b[1;33m\u001b[0m\u001b[0m\n\u001b[0;32m     20\u001b[0m \u001b[0mAsapError\u001b[0m \u001b[1;33m=\u001b[0m \u001b[0m_asap\u001b[0m\u001b[1;33m.\u001b[0m\u001b[0mAsapError\u001b[0m\u001b[1;33m\u001b[0m\u001b[0m\n",
      "\u001b[1;31mImportError\u001b[0m: No module named asapserial3"
     ]
    }
   ],
   "source": [
    "import asap3"
   ]
  },
  {
   "cell_type": "code",
   "execution_count": 15,
   "metadata": {
    "collapsed": true
   },
   "outputs": [],
   "source": [
    "os.chdir(\"/home/main/notebooks/Asap-3.8.4/\")"
   ]
  },
  {
   "cell_type": "code",
   "execution_count": 21,
   "metadata": {
    "collapsed": false
   },
   "outputs": [
    {
     "data": {
      "text/plain": [
       "['campos-asap.spec',\n",
       " 'makefile-UbuntuVBox',\n",
       " 'scripts',\n",
       " 'setup-filelist.txt',\n",
       " 'gentoo-setup.sh',\n",
       " 'Projects',\n",
       " 'OpenKIMimport',\n",
       " 'makefile-niflheim6',\n",
       " 'INSTALLATION',\n",
       " 'makefile-dl160g6-el6',\n",
       " 'asapmpiinfo-input.py',\n",
       " 'recordversion.py',\n",
       " 'build',\n",
       " 'compiling.m',\n",
       " 'makefile-ppc64',\n",
       " 'LICENSE',\n",
       " 'makefile-x86_64-gnu',\n",
       " 'makefile-niflheim',\n",
       " 'setup.py',\n",
       " 'makefile-default',\n",
       " 'doc',\n",
       " 'ParallelInterface',\n",
       " 'makefile-macos',\n",
       " 'detect.py',\n",
       " 'Interface',\n",
       " 'makefile-x86_64-debug',\n",
       " 'Python',\n",
       " 'compile-niflheim.sh',\n",
       " 'makefile-i686-debug',\n",
       " 'makefile-demokrit',\n",
       " 'makefile-i686-gnu',\n",
       " 'LICENSE.LESSER',\n",
       " 'Brenner',\n",
       " 'makefile-sun4u-cc',\n",
       " 'makefile-sun4u',\n",
       " 'Depend',\n",
       " 'Distutils-autogen',\n",
       " 'makefile-sl230s-el6',\n",
       " 'makefile-alpha',\n",
       " 'Tools',\n",
       " 'makefile-x3455-el6',\n",
       " 'BUGS',\n",
       " 'makefile-AMD-Opteron-el5',\n",
       " 'Parallel',\n",
       " 'Test',\n",
       " 'README',\n",
       " 'makefile-Intel-Nehalem-el5',\n",
       " 'makefile-x86_64-profile',\n",
       " 'makefile-x86_64-pathscale',\n",
       " 'getconfig.py',\n",
       " 'makefile-i686-intel',\n",
       " 'Examples',\n",
       " 'makefile-demokrit.local',\n",
       " 'Makefile',\n",
       " 'Doxyfile',\n",
       " 'makefile-demokrit.fysik.dtu.dk',\n",
       " 'TODO',\n",
       " 'depend.CHANGES',\n",
       " 'Basics',\n",
       " 'x86_64',\n",
       " 'makefile-x86_64-intel',\n",
       " 'backtrace-special',\n",
       " 'findnonascii.py',\n",
       " 'Debug',\n",
       " 'OpenKIMexport']"
      ]
     },
     "execution_count": 21,
     "metadata": {},
     "output_type": "execute_result"
    }
   ],
   "source": [
    "os.listdir('.')"
   ]
  },
  {
   "cell_type": "code",
   "execution_count": 24,
   "metadata": {
    "collapsed": false
   },
   "outputs": [
    {
     "name": "stdout",
     "output_type": "stream",
     "text": [
      "Asap version number: 3.8.4\n"
     ]
    },
    {
     "ename": "RuntimeError",
     "evalue": "Command failed: python recordversion.py '3.8.4' 'serial' 'distutils' '' > Distutils-autogen/version.cpp",
     "output_type": "error",
     "traceback": [
      "\u001b[1;31m---------------------------------------------------------------------------\u001b[0m",
      "\u001b[1;31mRuntimeError\u001b[0m                              Traceback (most recent call last)",
      "\u001b[1;32m/home/main/notebooks/Asap-3.8.4/setup.py\u001b[0m in \u001b[0;36m<module>\u001b[1;34m()\u001b[0m\n\u001b[0;32m     26\u001b[0m \u001b[1;32mif\u001b[0m \u001b[1;32mnot\u001b[0m \u001b[0mos\u001b[0m\u001b[1;33m.\u001b[0m\u001b[0mpath\u001b[0m\u001b[1;33m.\u001b[0m\u001b[0mexists\u001b[0m\u001b[1;33m(\u001b[0m\u001b[1;34m\"Distutils-autogen\"\u001b[0m\u001b[1;33m)\u001b[0m\u001b[1;33m:\u001b[0m\u001b[1;33m\u001b[0m\u001b[0m\n\u001b[0;32m     27\u001b[0m     \u001b[0mos\u001b[0m\u001b[1;33m.\u001b[0m\u001b[0mmkdir\u001b[0m\u001b[1;33m(\u001b[0m\u001b[1;34m\"Distutils-autogen\"\u001b[0m\u001b[1;33m)\u001b[0m\u001b[1;33m\u001b[0m\u001b[0m\n\u001b[1;32m---> 28\u001b[1;33m \u001b[0mruncmd\u001b[0m\u001b[1;33m(\u001b[0m\u001b[1;34m\"python recordversion.py '\"\u001b[0m\u001b[1;33m+\u001b[0m\u001b[0mversion\u001b[0m\u001b[1;33m+\u001b[0m\u001b[1;34m\"' 'serial' 'distutils' '' > Distutils-autogen/version.cpp\"\u001b[0m\u001b[1;33m)\u001b[0m\u001b[1;33m\u001b[0m\u001b[0m\n\u001b[0m\u001b[0;32m     29\u001b[0m \u001b[1;33m\u001b[0m\u001b[0m\n\u001b[0;32m     30\u001b[0m \u001b[1;32mif\u001b[0m \u001b[1;34m'ASAP_KIM_DIR'\u001b[0m \u001b[1;32min\u001b[0m \u001b[0mos\u001b[0m\u001b[1;33m.\u001b[0m\u001b[0menviron\u001b[0m\u001b[1;33m:\u001b[0m\u001b[1;33m\u001b[0m\u001b[0m\n",
      "\u001b[1;32m/home/main/notebooks/Asap-3.8.4/setup.py\u001b[0m in \u001b[0;36mruncmd\u001b[1;34m(cmd)\u001b[0m\n\u001b[0;32m     22\u001b[0m     \u001b[0mx\u001b[0m \u001b[1;33m=\u001b[0m \u001b[0mos\u001b[0m\u001b[1;33m.\u001b[0m\u001b[0msystem\u001b[0m\u001b[1;33m(\u001b[0m\u001b[0mcmd\u001b[0m\u001b[1;33m)\u001b[0m\u001b[1;33m\u001b[0m\u001b[0m\n\u001b[0;32m     23\u001b[0m     \u001b[1;32mif\u001b[0m \u001b[0mx\u001b[0m\u001b[1;33m:\u001b[0m\u001b[1;33m\u001b[0m\u001b[0m\n\u001b[1;32m---> 24\u001b[1;33m         \u001b[1;32mraise\u001b[0m \u001b[0mRuntimeError\u001b[0m\u001b[1;33m,\u001b[0m \u001b[1;34m\"Command failed: \"\u001b[0m\u001b[1;33m+\u001b[0m\u001b[0mcmd\u001b[0m\u001b[1;33m\u001b[0m\u001b[0m\n\u001b[0m\u001b[0;32m     25\u001b[0m \u001b[1;33m\u001b[0m\u001b[0m\n\u001b[0;32m     26\u001b[0m \u001b[1;32mif\u001b[0m \u001b[1;32mnot\u001b[0m \u001b[0mos\u001b[0m\u001b[1;33m.\u001b[0m\u001b[0mpath\u001b[0m\u001b[1;33m.\u001b[0m\u001b[0mexists\u001b[0m\u001b[1;33m(\u001b[0m\u001b[1;34m\"Distutils-autogen\"\u001b[0m\u001b[1;33m)\u001b[0m\u001b[1;33m:\u001b[0m\u001b[1;33m\u001b[0m\u001b[0m\n",
      "\u001b[1;31mRuntimeError\u001b[0m: Command failed: python recordversion.py '3.8.4' 'serial' 'distutils' '' > Distutils-autogen/version.cpp"
     ]
    }
   ],
   "source": [
    "run setup.py install"
   ]
  },
  {
   "cell_type": "code",
   "execution_count": 26,
   "metadata": {
    "collapsed": false
   },
   "outputs": [
    {
     "data": {
      "text/plain": [
       "512"
      ]
     },
     "execution_count": 26,
     "metadata": {},
     "output_type": "execute_result"
    }
   ],
   "source": [
    "os.system('make depend')"
   ]
  },
  {
   "cell_type": "code",
   "execution_count": 27,
   "metadata": {
    "collapsed": false
   },
   "outputs": [
    {
     "data": {
      "text/plain": [
       "512"
      ]
     },
     "execution_count": 27,
     "metadata": {},
     "output_type": "execute_result"
    }
   ],
   "source": [
    "os.system('make serial')"
   ]
  },
  {
   "cell_type": "code",
   "execution_count": 28,
   "metadata": {
    "collapsed": false
   },
   "outputs": [
    {
     "data": {
      "text/plain": [
       "512"
      ]
     },
     "execution_count": 28,
     "metadata": {},
     "output_type": "execute_result"
    }
   ],
   "source": [
    "os.system('make install')"
   ]
  },
  {
   "cell_type": "code",
   "execution_count": 29,
   "metadata": {
    "collapsed": false
   },
   "outputs": [
    {
     "name": "stdout",
     "output_type": "stream",
     "text": [
      "Asap version number: 3.8.4\n"
     ]
    },
    {
     "ename": "RuntimeError",
     "evalue": "Command failed: python recordversion.py '3.8.4' 'serial' 'distutils' '' > Distutils-autogen/version.cpp",
     "output_type": "error",
     "traceback": [
      "\u001b[1;31m---------------------------------------------------------------------------\u001b[0m",
      "\u001b[1;31mRuntimeError\u001b[0m                              Traceback (most recent call last)",
      "\u001b[1;32m/home/main/notebooks/Asap-3.8.4/setup.py\u001b[0m in \u001b[0;36m<module>\u001b[1;34m()\u001b[0m\n\u001b[0;32m     26\u001b[0m \u001b[1;32mif\u001b[0m \u001b[1;32mnot\u001b[0m \u001b[0mos\u001b[0m\u001b[1;33m.\u001b[0m\u001b[0mpath\u001b[0m\u001b[1;33m.\u001b[0m\u001b[0mexists\u001b[0m\u001b[1;33m(\u001b[0m\u001b[1;34m\"Distutils-autogen\"\u001b[0m\u001b[1;33m)\u001b[0m\u001b[1;33m:\u001b[0m\u001b[1;33m\u001b[0m\u001b[0m\n\u001b[0;32m     27\u001b[0m     \u001b[0mos\u001b[0m\u001b[1;33m.\u001b[0m\u001b[0mmkdir\u001b[0m\u001b[1;33m(\u001b[0m\u001b[1;34m\"Distutils-autogen\"\u001b[0m\u001b[1;33m)\u001b[0m\u001b[1;33m\u001b[0m\u001b[0m\n\u001b[1;32m---> 28\u001b[1;33m \u001b[0mruncmd\u001b[0m\u001b[1;33m(\u001b[0m\u001b[1;34m\"python recordversion.py '\"\u001b[0m\u001b[1;33m+\u001b[0m\u001b[0mversion\u001b[0m\u001b[1;33m+\u001b[0m\u001b[1;34m\"' 'serial' 'distutils' '' > Distutils-autogen/version.cpp\"\u001b[0m\u001b[1;33m)\u001b[0m\u001b[1;33m\u001b[0m\u001b[0m\n\u001b[0m\u001b[0;32m     29\u001b[0m \u001b[1;33m\u001b[0m\u001b[0m\n\u001b[0;32m     30\u001b[0m \u001b[1;32mif\u001b[0m \u001b[1;34m'ASAP_KIM_DIR'\u001b[0m \u001b[1;32min\u001b[0m \u001b[0mos\u001b[0m\u001b[1;33m.\u001b[0m\u001b[0menviron\u001b[0m\u001b[1;33m:\u001b[0m\u001b[1;33m\u001b[0m\u001b[0m\n",
      "\u001b[1;32m/home/main/notebooks/Asap-3.8.4/setup.py\u001b[0m in \u001b[0;36mruncmd\u001b[1;34m(cmd)\u001b[0m\n\u001b[0;32m     22\u001b[0m     \u001b[0mx\u001b[0m \u001b[1;33m=\u001b[0m \u001b[0mos\u001b[0m\u001b[1;33m.\u001b[0m\u001b[0msystem\u001b[0m\u001b[1;33m(\u001b[0m\u001b[0mcmd\u001b[0m\u001b[1;33m)\u001b[0m\u001b[1;33m\u001b[0m\u001b[0m\n\u001b[0;32m     23\u001b[0m     \u001b[1;32mif\u001b[0m \u001b[0mx\u001b[0m\u001b[1;33m:\u001b[0m\u001b[1;33m\u001b[0m\u001b[0m\n\u001b[1;32m---> 24\u001b[1;33m         \u001b[1;32mraise\u001b[0m \u001b[0mRuntimeError\u001b[0m\u001b[1;33m,\u001b[0m \u001b[1;34m\"Command failed: \"\u001b[0m\u001b[1;33m+\u001b[0m\u001b[0mcmd\u001b[0m\u001b[1;33m\u001b[0m\u001b[0m\n\u001b[0m\u001b[0;32m     25\u001b[0m \u001b[1;33m\u001b[0m\u001b[0m\n\u001b[0;32m     26\u001b[0m \u001b[1;32mif\u001b[0m \u001b[1;32mnot\u001b[0m \u001b[0mos\u001b[0m\u001b[1;33m.\u001b[0m\u001b[0mpath\u001b[0m\u001b[1;33m.\u001b[0m\u001b[0mexists\u001b[0m\u001b[1;33m(\u001b[0m\u001b[1;34m\"Distutils-autogen\"\u001b[0m\u001b[1;33m)\u001b[0m\u001b[1;33m:\u001b[0m\u001b[1;33m\u001b[0m\u001b[0m\n",
      "\u001b[1;31mRuntimeError\u001b[0m: Command failed: python recordversion.py '3.8.4' 'serial' 'distutils' '' > Distutils-autogen/version.cpp"
     ]
    }
   ],
   "source": [
    "run setup.py install"
   ]
  },
  {
   "cell_type": "code",
   "execution_count": 30,
   "metadata": {
    "collapsed": false
   },
   "outputs": [
    {
     "ename": "ImportError",
     "evalue": "No module named asapserial3",
     "output_type": "error",
     "traceback": [
      "\u001b[1;31m---------------------------------------------------------------------------\u001b[0m",
      "\u001b[1;31mImportError\u001b[0m                               Traceback (most recent call last)",
      "\u001b[1;32m<ipython-input-30-6f909c417c41>\u001b[0m in \u001b[0;36m<module>\u001b[1;34m()\u001b[0m\n\u001b[1;32m----> 1\u001b[1;33m \u001b[1;32mimport\u001b[0m \u001b[0masap3\u001b[0m\u001b[1;33m\u001b[0m\u001b[0m\n\u001b[0m",
      "\u001b[1;32m/home/main/notebooks/Asap-3.8.4/Python/asap3/__init__.py\u001b[0m in \u001b[0;36m<module>\u001b[1;34m()\u001b[0m\n\u001b[0;32m     74\u001b[0m \u001b[1;32mimport\u001b[0m \u001b[0msys\u001b[0m\u001b[1;33m,\u001b[0m \u001b[0mos\u001b[0m\u001b[1;33m\u001b[0m\u001b[0m\n\u001b[0;32m     75\u001b[0m \u001b[1;32mfrom\u001b[0m \u001b[0masap3\u001b[0m\u001b[1;33m.\u001b[0m\u001b[0mversion\u001b[0m \u001b[1;32mimport\u001b[0m \u001b[0m__version__\u001b[0m\u001b[1;33m\u001b[0m\u001b[0m\n\u001b[1;32m---> 76\u001b[1;33m \u001b[1;32mfrom\u001b[0m \u001b[0masap3\u001b[0m\u001b[1;33m.\u001b[0m\u001b[0mInternal\u001b[0m\u001b[1;33m.\u001b[0m\u001b[0mBuiltins\u001b[0m \u001b[1;32mimport\u001b[0m \u001b[0m_asap\u001b[0m\u001b[1;33m,\u001b[0m \u001b[0mparallelpossible\u001b[0m\u001b[1;33m,\u001b[0m \u001b[0mAsapError\u001b[0m\u001b[1;33m\u001b[0m\u001b[0m\n\u001b[0m\u001b[0;32m     77\u001b[0m \u001b[1;32mfrom\u001b[0m \u001b[0masap3\u001b[0m\u001b[1;33m.\u001b[0m\u001b[0mInternal\u001b[0m\u001b[1;33m.\u001b[0m\u001b[0mUtilityFunctions\u001b[0m \u001b[1;32mimport\u001b[0m \u001b[0mprint_version\u001b[0m\u001b[1;33m,\u001b[0m \u001b[0mget_version\u001b[0m\u001b[1;33m,\u001b[0m\u001b[0;31m \u001b[0m\u001b[0;31m\\\u001b[0m\u001b[1;33m\u001b[0m\u001b[0m\n\u001b[0;32m     78\u001b[0m      \u001b[0mget_short_version\u001b[0m\u001b[1;33m,\u001b[0m \u001b[0mDebugOutput\u001b[0m\u001b[1;33m,\u001b[0m \u001b[0mmemory_usage\u001b[0m\u001b[1;33m,\u001b[0m \u001b[0mprint_memory\u001b[0m\u001b[1;33m\u001b[0m\u001b[0m\n",
      "\u001b[1;32m/home/main/notebooks/Asap-3.8.4/Python/asap3/Internal/Builtins.py\u001b[0m in \u001b[0;36m<module>\u001b[1;34m()\u001b[0m\n\u001b[0;32m     16\u001b[0m     \u001b[1;32mimport\u001b[0m \u001b[0masapparallel3\u001b[0m \u001b[1;32mas\u001b[0m \u001b[0m_asap\u001b[0m\u001b[1;33m\u001b[0m\u001b[0m\n\u001b[0;32m     17\u001b[0m \u001b[1;32melse\u001b[0m\u001b[1;33m:\u001b[0m\u001b[1;33m\u001b[0m\u001b[0m\n\u001b[1;32m---> 18\u001b[1;33m     \u001b[1;32mimport\u001b[0m \u001b[0masapserial3\u001b[0m \u001b[1;32mas\u001b[0m \u001b[0m_asap\u001b[0m\u001b[1;33m\u001b[0m\u001b[0m\n\u001b[0m\u001b[0;32m     19\u001b[0m \u001b[1;33m\u001b[0m\u001b[0m\n\u001b[0;32m     20\u001b[0m \u001b[0mAsapError\u001b[0m \u001b[1;33m=\u001b[0m \u001b[0m_asap\u001b[0m\u001b[1;33m.\u001b[0m\u001b[0mAsapError\u001b[0m\u001b[1;33m\u001b[0m\u001b[0m\n",
      "\u001b[1;31mImportError\u001b[0m: No module named asapserial3"
     ]
    }
   ],
   "source": [
    "import asap3"
   ]
  },
  {
   "cell_type": "code",
   "execution_count": null,
   "metadata": {
    "collapsed": true
   },
   "outputs": [],
   "source": []
  }
 ],
 "metadata": {
  "kernelspec": {
   "display_name": "Python 2",
   "language": "python",
   "name": "python2"
  },
  "language_info": {
   "codemirror_mode": {
    "name": "ipython",
    "version": 2
   },
   "file_extension": ".py",
   "mimetype": "text/x-python",
   "name": "python",
   "nbconvert_exporter": "python",
   "pygments_lexer": "ipython2",
   "version": "2.7.11"
  }
 },
 "nbformat": 4,
 "nbformat_minor": 0
}
